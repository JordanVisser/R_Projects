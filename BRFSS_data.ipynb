{
 "cells": [
  {
   "cell_type": "code",
   "execution_count": 4,
   "id": "c96ac700-71b3-412a-bca8-db90eca92bf2",
   "metadata": {},
   "outputs": [
    {
     "name": "stderr",
     "output_type": "stream",
     "text": [
      "\u001b[1mRows: \u001b[22m\u001b[34m441456\u001b[39m \u001b[1mColumns: \u001b[22m\u001b[34m37\u001b[39m\n",
      "\u001b[36m──\u001b[39m \u001b[1mColumn specification\u001b[22m \u001b[36m────────────────────────────────────────────────────────\u001b[39m\n",
      "\u001b[1mDelimiter:\u001b[22m \",\"\n",
      "\u001b[32mdbl\u001b[39m (37): NUMWOMEN, GENHLTH, PHYSHLTH, MENTHLTH, POORHLTH, PERSDOC2, ASTHMA3...\n",
      "\n",
      "\u001b[36mℹ\u001b[39m Use `spec()` to retrieve the full column specification for this data.\n",
      "\u001b[36mℹ\u001b[39m Specify the column types or set `show_col_types = FALSE` to quiet this message.\n"
     ]
    }
   ],
   "source": [
    "rm(list = ls())\n",
    "library(tidyverse)\n",
    "brf <- read_csv(\"BRFSS2015_650.csv\")"
   ]
  },
  {
   "cell_type": "code",
   "execution_count": 5,
   "id": "06e778af-d826-4eea-978f-66c7c369ea86",
   "metadata": {},
   "outputs": [
    {
     "data": {
      "text/html": [
       "76032"
      ],
      "text/latex": [
       "76032"
      ],
      "text/markdown": [
       "76032"
      ],
      "text/plain": [
       "[1] 76032"
      ]
     },
     "metadata": {},
     "output_type": "display_data"
    }
   ],
   "source": [
    "Q1 <- brf %>%\n",
    "  filter(GENHLTH == 1) %>%\n",
    "  count() %>%\n",
    "  pull(n) %>%\n",
    "  as.integer()\n",
    "\n",
    "Q1"
   ]
  },
  {
   "cell_type": "code",
   "execution_count": 6,
   "id": "3daab18a-3776-45a8-b5a1-c3f648dd406f",
   "metadata": {},
   "outputs": [
    {
     "data": {
      "text/html": [
       "<table class=\"dataframe\">\n",
       "<caption>A data.frame: 1 × 1</caption>\n",
       "<thead>\n",
       "\t<tr><th scope=col>max_num_women</th></tr>\n",
       "\t<tr><th scope=col>&lt;dbl&gt;</th></tr>\n",
       "</thead>\n",
       "<tbody>\n",
       "\t<tr><td>10</td></tr>\n",
       "</tbody>\n",
       "</table>\n"
      ],
      "text/latex": [
       "A data.frame: 1 × 1\n",
       "\\begin{tabular}{l}\n",
       " max\\_num\\_women\\\\\n",
       " <dbl>\\\\\n",
       "\\hline\n",
       "\t 10\\\\\n",
       "\\end{tabular}\n"
      ],
      "text/markdown": [
       "\n",
       "A data.frame: 1 × 1\n",
       "\n",
       "| max_num_women &lt;dbl&gt; |\n",
       "|---|\n",
       "| 10 |\n",
       "\n"
      ],
      "text/plain": [
       "  max_num_women\n",
       "1 10           "
      ]
     },
     "metadata": {},
     "output_type": "display_data"
    }
   ],
   "source": [
    "Q2 <- brf %>%\n",
    "  filter(CVDSTRK3 == 1) %>%\n",
    "  summarise(max_num_women = max(NUMWOMEN, na.rm = TRUE)) %>%\n",
    "  as.data.frame()\n",
    "\n",
    "Q2"
   ]
  },
  {
   "cell_type": "code",
   "execution_count": 7,
   "id": "35d61c6f-be3d-43c4-b988-d11fee06aac4",
   "metadata": {},
   "outputs": [
    {
     "data": {
      "text/html": [
       "<table class=\"dataframe\">\n",
       "<caption>A data.frame: 2 × 3</caption>\n",
       "<thead>\n",
       "\t<tr><th scope=col>CRGVPERS</th><th scope=col>mean_mental</th><th scope=col>sd_mental</th></tr>\n",
       "\t<tr><th scope=col>&lt;dbl&gt;</th><th scope=col>&lt;dbl&gt;</th><th scope=col>&lt;dbl&gt;</th></tr>\n",
       "</thead>\n",
       "<tbody>\n",
       "\t<tr><td>1</td><td>5.23</td><td>9.32</td></tr>\n",
       "\t<tr><td>2</td><td>4.14</td><td>8.40</td></tr>\n",
       "</tbody>\n",
       "</table>\n"
      ],
      "text/latex": [
       "A data.frame: 2 × 3\n",
       "\\begin{tabular}{lll}\n",
       " CRGVPERS & mean\\_mental & sd\\_mental\\\\\n",
       " <dbl> & <dbl> & <dbl>\\\\\n",
       "\\hline\n",
       "\t 1 & 5.23 & 9.32\\\\\n",
       "\t 2 & 4.14 & 8.40\\\\\n",
       "\\end{tabular}\n"
      ],
      "text/markdown": [
       "\n",
       "A data.frame: 2 × 3\n",
       "\n",
       "| CRGVPERS &lt;dbl&gt; | mean_mental &lt;dbl&gt; | sd_mental &lt;dbl&gt; |\n",
       "|---|---|---|\n",
       "| 1 | 5.23 | 9.32 |\n",
       "| 2 | 4.14 | 8.40 |\n",
       "\n"
      ],
      "text/plain": [
       "  CRGVPERS mean_mental sd_mental\n",
       "1 1        5.23        9.32     \n",
       "2 2        4.14        8.40     "
      ]
     },
     "metadata": {},
     "output_type": "display_data"
    }
   ],
   "source": [
    "Q3 <- brf %>%\n",
    "  filter(\n",
    "    CRGVPERS %in% c(1, 2) &\n",
    "    (MENTHLTH %in% c(0, 88) | (MENTHLTH >= 1 & MENTHLTH <= 30))\n",
    "  ) %>%\n",
    "  mutate(MENTHLTH = ifelse(MENTHLTH == 88, 0, MENTHLTH)) %>%\n",
    "  group_by(CRGVPERS) %>%\n",
    "  summarise(\n",
    "    mean_mental = mean(MENTHLTH, na.rm = TRUE),\n",
    "    sd_mental = sd(MENTHLTH, na.rm = TRUE)\n",
    "  ) %>%\n",
    "  round(2) %>%\n",
    "  as.data.frame()\n",
    "\n",
    "Q3"
   ]
  },
  {
   "cell_type": "code",
   "execution_count": 8,
   "id": "98fabee1-581a-4d66-93c9-fe27b1eb53ed",
   "metadata": {},
   "outputs": [
    {
     "data": {
      "text/html": [
       "<table class=\"dataframe\">\n",
       "<caption>A data.frame: 1 × 1</caption>\n",
       "<thead>\n",
       "\t<tr><th scope=col>med_diab_age</th></tr>\n",
       "\t<tr><th scope=col>&lt;dbl&gt;</th></tr>\n",
       "</thead>\n",
       "<tbody>\n",
       "\t<tr><td>55</td></tr>\n",
       "</tbody>\n",
       "</table>\n"
      ],
      "text/latex": [
       "A data.frame: 1 × 1\n",
       "\\begin{tabular}{l}\n",
       " med\\_diab\\_age\\\\\n",
       " <dbl>\\\\\n",
       "\\hline\n",
       "\t 55\\\\\n",
       "\\end{tabular}\n"
      ],
      "text/markdown": [
       "\n",
       "A data.frame: 1 × 1\n",
       "\n",
       "| med_diab_age &lt;dbl&gt; |\n",
       "|---|\n",
       "| 55 |\n",
       "\n"
      ],
      "text/plain": [
       "  med_diab_age\n",
       "1 55          "
      ]
     },
     "metadata": {},
     "output_type": "display_data"
    }
   ],
   "source": [
    "Q4 <- brf %>%\n",
    "  filter(!is.na(DIABAGE2), `_STATE` == 42, !(DIABAGE2 %in% c(98, 99))) %>%\n",
    "  summarize(med_diab_age = median(DIABAGE2)) %>%\n",
    "  as.data.frame()\n",
    "\n",
    "Q4"
   ]
  },
  {
   "cell_type": "code",
   "execution_count": 9,
   "id": "718bc3d5-5f0f-4a7b-9c4c-2f481fee7c06",
   "metadata": {},
   "outputs": [
    {
     "data": {
      "text/plain": [
       "\n",
       "Call:\n",
       "lm(formula = MENTHLTH ~ MARITAL, data = .)\n",
       "\n",
       "Residuals:\n",
       "   Min     1Q Median     3Q    Max \n",
       "-7.027 -3.085 -2.497 -1.364 27.503 \n",
       "\n",
       "Coefficients:\n",
       "            Estimate Std. Error t value Pr(>|t|)    \n",
       "(Intercept)  2.49739    0.01570  159.06   <2e-16 ***\n",
       "MARITAL2     2.26240    0.03497   64.70   <2e-16 ***\n",
       "MARITAL3     0.58725    0.03586   16.38   <2e-16 ***\n",
       "MARITAL4     4.53000    0.08205   55.21   <2e-16 ***\n",
       "MARITAL5     1.86635    0.03319   56.24   <2e-16 ***\n",
       "MARITAL6     2.07783    0.06936   29.96   <2e-16 ***\n",
       "---\n",
       "Signif. codes:  0 ‘***’ 0.001 ‘**’ 0.01 ‘*’ 0.05 ‘.’ 0.1 ‘ ’ 1\n",
       "\n",
       "Residual standard error: 7.538 on 431112 degrees of freedom\n",
       "Multiple R-squared:  0.01969,\tAdjusted R-squared:  0.01968 \n",
       "F-statistic:  1732 on 5 and 431112 DF,  p-value: < 2.2e-16\n"
      ]
     },
     "metadata": {},
     "output_type": "display_data"
    }
   ],
   "source": [
    "Q5 <- brf %>%\n",
    "  filter((MENTHLTH %in% c(0, 88) | (MENTHLTH >= 1 & MENTHLTH <= 30))) %>%\n",
    "  filter(!MARITAL %in% c(9)) %>%\n",
    "  mutate(MENTHLTH = ifelse(MENTHLTH == 88, 0, MENTHLTH)) %>%\n",
    "  mutate(MARITAL = factor(MARITAL)) %>%\n",
    "  lm(MENTHLTH ~ MARITAL, data = .) %>%\n",
    "  summary() \n",
    "\n",
    "Q5"
   ]
  },
  {
   "cell_type": "code",
   "execution_count": 10,
   "id": "414de15d-ef14-4911-acaa-17a2b5325872",
   "metadata": {},
   "outputs": [
    {
     "data": {
      "text/html": [
       "<table class=\"dataframe\">\n",
       "<caption>A data.frame: 6 × 2</caption>\n",
       "<thead>\n",
       "\t<tr><th scope=col>MARITAL</th><th scope=col>mean_mental</th></tr>\n",
       "\t<tr><th scope=col>&lt;dbl&gt;</th><th scope=col>&lt;dbl&gt;</th></tr>\n",
       "</thead>\n",
       "<tbody>\n",
       "\t<tr><td>1</td><td>2.50</td></tr>\n",
       "\t<tr><td>2</td><td>4.76</td></tr>\n",
       "\t<tr><td>3</td><td>3.08</td></tr>\n",
       "\t<tr><td>4</td><td>7.03</td></tr>\n",
       "\t<tr><td>5</td><td>4.36</td></tr>\n",
       "\t<tr><td>6</td><td>4.58</td></tr>\n",
       "</tbody>\n",
       "</table>\n"
      ],
      "text/latex": [
       "A data.frame: 6 × 2\n",
       "\\begin{tabular}{ll}\n",
       " MARITAL & mean\\_mental\\\\\n",
       " <dbl> & <dbl>\\\\\n",
       "\\hline\n",
       "\t 1 & 2.50\\\\\n",
       "\t 2 & 4.76\\\\\n",
       "\t 3 & 3.08\\\\\n",
       "\t 4 & 7.03\\\\\n",
       "\t 5 & 4.36\\\\\n",
       "\t 6 & 4.58\\\\\n",
       "\\end{tabular}\n"
      ],
      "text/markdown": [
       "\n",
       "A data.frame: 6 × 2\n",
       "\n",
       "| MARITAL &lt;dbl&gt; | mean_mental &lt;dbl&gt; |\n",
       "|---|---|\n",
       "| 1 | 2.50 |\n",
       "| 2 | 4.76 |\n",
       "| 3 | 3.08 |\n",
       "| 4 | 7.03 |\n",
       "| 5 | 4.36 |\n",
       "| 6 | 4.58 |\n",
       "\n"
      ],
      "text/plain": [
       "  MARITAL mean_mental\n",
       "1 1       2.50       \n",
       "2 2       4.76       \n",
       "3 3       3.08       \n",
       "4 4       7.03       \n",
       "5 5       4.36       \n",
       "6 6       4.58       "
      ]
     },
     "metadata": {},
     "output_type": "display_data"
    }
   ],
   "source": [
    "Q6 <- brf %>%\n",
    "  filter((MENTHLTH %in% c(0, 88) | (MENTHLTH >= 1 & MENTHLTH <= 30))) %>%\n",
    "  mutate(MENTHLTH = ifelse(MENTHLTH == 88, 0, MENTHLTH)) %>%\n",
    "  filter(MARITAL != 9) %>%\n",
    "  group_by(MARITAL) %>%\n",
    "  summarise(mean_mental = mean(MENTHLTH, na.rm = TRUE)) %>%\n",
    "  round(2) %>%\n",
    "  as.data.frame()\n",
    "\n",
    "Q6"
   ]
  },
  {
   "cell_type": "code",
   "execution_count": 11,
   "id": "52369306-659a-4a54-ace8-16828eda6c6d",
   "metadata": {},
   "outputs": [
    {
     "data": {
      "text/html": [
       "<table class=\"dataframe\">\n",
       "<caption>A data.frame: 2 × 3</caption>\n",
       "<thead>\n",
       "\t<tr><th scope=col>CVDSTRK3</th><th scope=col>mean_mental</th><th scope=col>sd_mental</th></tr>\n",
       "\t<tr><th scope=col>&lt;dbl&gt;</th><th scope=col>&lt;dbl&gt;</th><th scope=col>&lt;dbl&gt;</th></tr>\n",
       "</thead>\n",
       "<tbody>\n",
       "\t<tr><td>1</td><td>8.89</td><td>11.74</td></tr>\n",
       "\t<tr><td>2</td><td>4.60</td><td> 8.89</td></tr>\n",
       "</tbody>\n",
       "</table>\n"
      ],
      "text/latex": [
       "A data.frame: 2 × 3\n",
       "\\begin{tabular}{lll}\n",
       " CVDSTRK3 & mean\\_mental & sd\\_mental\\\\\n",
       " <dbl> & <dbl> & <dbl>\\\\\n",
       "\\hline\n",
       "\t 1 & 8.89 & 11.74\\\\\n",
       "\t 2 & 4.60 &  8.89\\\\\n",
       "\\end{tabular}\n"
      ],
      "text/markdown": [
       "\n",
       "A data.frame: 2 × 3\n",
       "\n",
       "| CVDSTRK3 &lt;dbl&gt; | mean_mental &lt;dbl&gt; | sd_mental &lt;dbl&gt; |\n",
       "|---|---|---|\n",
       "| 1 | 8.89 | 11.74 |\n",
       "| 2 | 4.60 |  8.89 |\n",
       "\n"
      ],
      "text/plain": [
       "  CVDSTRK3 mean_mental sd_mental\n",
       "1 1        8.89        11.74    \n",
       "2 2        4.60         8.89    "
      ]
     },
     "metadata": {},
     "output_type": "display_data"
    }
   ],
   "source": [
    "Q7 <- brf %>%\n",
    "  filter(HLTHPLN1 == 2) %>%\n",
    "  filter((MENTHLTH %in% c(0, 88) | (MENTHLTH >= 1 & MENTHLTH <= 30))) %>%\n",
    "  mutate(MENTHLTH = ifelse(MENTHLTH == 88, 0, MENTHLTH)) %>%\n",
    "  group_by(CVDSTRK3) %>%\n",
    "  summarise(\n",
    "    mean_mental = mean(MENTHLTH, na.rm = TRUE),\n",
    "    sd_mental = sd(MENTHLTH, na.rm = TRUE)\n",
    "  ) %>%\n",
    "  filter(CVDSTRK3 %in% c(1, 2)) %>%\n",
    "  round(2) %>%\n",
    "  as.data.frame()\n",
    "\n",
    "Q7"
   ]
  },
  {
   "cell_type": "code",
   "execution_count": 12,
   "id": "7bafa430-0c4d-4475-bc06-4958c2973b03",
   "metadata": {},
   "outputs": [
    {
     "data": {
      "text/plain": [
       "                Df  Sum Sq Mean Sq F value Pr(>F)    \n",
       "MARITAL          5    7706  1541.1   177.9 <2e-16 ***\n",
       "Residuals   206301 1787155     8.7                   \n",
       "---\n",
       "Signif. codes:  0 ‘***’ 0.001 ‘**’ 0.01 ‘*’ 0.05 ‘.’ 0.1 ‘ ’ 1"
      ]
     },
     "metadata": {},
     "output_type": "display_data"
    }
   ],
   "source": [
    "Q8 <- brf %>% \n",
    "  filter(!is.na(MARITAL), !is.na(EXEROFT1)) %>%\n",
    "  filter(MARITAL != 9) %>%\n",
    "  filter(between(EXEROFT1, 101, 199)) %>%\n",
    "  mutate(MARITAL = factor(MARITAL)) %>%\n",
    "  aov(EXEROFT1 ~ MARITAL, data = .) %>% \n",
    "  summary()\n",
    "\n",
    "Q8"
   ]
  },
  {
   "cell_type": "code",
   "execution_count": 14,
   "id": "e5483e31-706a-419f-9288-d11bfc949ed2",
   "metadata": {},
   "outputs": [
    {
     "data": {
      "text/html": [
       "<table class=\"dataframe\">\n",
       "<caption>A tibble: 6 × 2</caption>\n",
       "<thead>\n",
       "\t<tr><th scope=col>EXRACT11</th><th scope=col>var_drinks</th></tr>\n",
       "\t<tr><th scope=col>&lt;dbl&gt;</th><th scope=col>&lt;dbl&gt;</th></tr>\n",
       "</thead>\n",
       "<tbody>\n",
       "\t<tr><td>55</td><td>9.50</td></tr>\n",
       "\t<tr><td>34</td><td>8.14</td></tr>\n",
       "\t<tr><td>59</td><td>7.23</td></tr>\n",
       "\t<tr><td>42</td><td>6.67</td></tr>\n",
       "\t<tr><td>21</td><td>6.61</td></tr>\n",
       "\t<tr><td>12</td><td>6.48</td></tr>\n",
       "</tbody>\n",
       "</table>\n"
      ],
      "text/latex": [
       "A tibble: 6 × 2\n",
       "\\begin{tabular}{ll}\n",
       " EXRACT11 & var\\_drinks\\\\\n",
       " <dbl> & <dbl>\\\\\n",
       "\\hline\n",
       "\t 55 & 9.50\\\\\n",
       "\t 34 & 8.14\\\\\n",
       "\t 59 & 7.23\\\\\n",
       "\t 42 & 6.67\\\\\n",
       "\t 21 & 6.61\\\\\n",
       "\t 12 & 6.48\\\\\n",
       "\\end{tabular}\n"
      ],
      "text/markdown": [
       "\n",
       "A tibble: 6 × 2\n",
       "\n",
       "| EXRACT11 &lt;dbl&gt; | var_drinks &lt;dbl&gt; |\n",
       "|---|---|\n",
       "| 55 | 9.50 |\n",
       "| 34 | 8.14 |\n",
       "| 59 | 7.23 |\n",
       "| 42 | 6.67 |\n",
       "| 21 | 6.61 |\n",
       "| 12 | 6.48 |\n",
       "\n"
      ],
      "text/plain": [
       "  EXRACT11 var_drinks\n",
       "1 55       9.50      \n",
       "2 34       8.14      \n",
       "3 59       7.23      \n",
       "4 42       6.67      \n",
       "5 21       6.61      \n",
       "6 12       6.48      "
      ]
     },
     "metadata": {},
     "output_type": "display_data"
    }
   ],
   "source": [
    "brfcopy <- data_frame(brf)\n",
    "\n",
    "brfcopy_filtered <- brfcopy %>%\n",
    "  filter(!is.na(EXRACT11), SEX == 1) %>%\n",
    "  filter(!ALCDAY5 %in% c(201:299,777, 999)) %>%\n",
    "  mutate(ALCDAY5 = ifelse(ALCDAY5 %in% 101:199, ALCDAY5 - 100, ALCDAY5)) %>%\n",
    "  mutate(ALCDAY5 = ifelse(ALCDAY5 == 888, 0, ALCDAY5))\n",
    "\n",
    "Q9 <- brfcopy_filtered %>%\n",
    "  group_by(EXRACT11) %>%\n",
    "  summarize(var_drinks = var(ALCDAY5, na.rm = TRUE)) %>%\n",
    "  arrange(desc(var_drinks)) %>%\n",
    "  head(6) %>%\n",
    "  round(2)\n",
    "\n",
    "Q9"
   ]
  }
 ],
 "metadata": {
  "kernelspec": {
   "display_name": "R",
   "language": "R",
   "name": "ir"
  },
  "language_info": {
   "codemirror_mode": "r",
   "file_extension": ".r",
   "mimetype": "text/x-r-source",
   "name": "R",
   "pygments_lexer": "r",
   "version": "4.3.2"
  }
 },
 "nbformat": 4,
 "nbformat_minor": 5
}
